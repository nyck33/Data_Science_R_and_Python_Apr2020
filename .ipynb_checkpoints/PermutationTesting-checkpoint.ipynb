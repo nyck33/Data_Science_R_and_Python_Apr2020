{
 "cells": [
  {
   "cell_type": "code",
   "execution_count": 1,
   "metadata": {},
   "outputs": [
    {
     "data": {
      "text/html": [
       "<style>.container { width:100% !important; }</style>"
      ],
      "text/plain": [
       "<IPython.core.display.HTML object>"
      ]
     },
     "metadata": {},
     "output_type": "display_data"
    }
   ],
   "source": [
    "from IPython.core.display import display, HTML\n",
    "display(HTML(\"<style>.container { width:100% !important; }</style>\"))"
   ]
  },
  {
   "cell_type": "markdown",
   "metadata": {},
   "source": [
    "# Permutation Testing Info"
   ]
  },
  {
   "cell_type": "markdown",
   "metadata": {},
   "source": [
    "https://www.jwilber.me/permutationtest/"
   ]
  },
  {
   "cell_type": "markdown",
   "metadata": {},
   "source": [
    "a non-parametric test light on assumptions, widely applicable and intuitive"
   ]
  },
  {
   "cell_type": "markdown",
   "metadata": {},
   "source": [
    "null hypothesis/H0:  new shampoo does not increase wool quality\n",
    "alternative hypothesis/HA:  new shampoo yields superior wool"
   ]
  },
  {
   "cell_type": "markdown",
   "metadata": {},
   "source": [
    "Experiment with x number of sampled alpacas\n",
    "\n",
    "step 1:  randomly assign half of sampled alpcas to new shampoo and other half to old. ie. treatment and control group\n",
    "\n",
    "step 2:  measure the response value, ie. measure of wool quality after treatment\n",
    "\n",
    "step 3:  Are the differences statistically significant\n",
    "\n",
    "step 4:  quantify difference between null H0 and HA with the test statistic.  This can be any numerical value so in this case use the difference in mean response values between 2 shampoos.  \n",
    "\n",
    "test statistic = mu_treatment - mu_control\n",
    "\n",
    "step 5:  permute (shuffle) the treatment assignments of the alpaca and recalculate the test statistic.  \n",
    "\n",
    "If the H0 is true and shampoo does not improve the wool quality shuffling shampoo labels (whether they received the new or old) of the alpacas and recalculating the test statistic won't matter, ie. similar wool quality will be obtained for both groups.  ie. similar means of response values.  \n",
    "\n",
    "step 6:  keep permuting data over and over and recalculate a test statistic at each iteration.\n",
    "\n",
    "step 7:  after sufficient number of permutations, we create the approximate test statistic distribution.  Use this distribution to obtain probabilities associated with different mean-difference values, where we assume that wool quality does not increase with new shampoo.  \n",
    "\n",
    "By observiing where our initial test statistic falls within this distribution, we get the p-value.  The P(test_statisic | H0 is true) or more extreme than the observed test statistic assuming H0 is true.  \n",
    "\n",
    "Compare the p-value to a significance level determined a-priori and if p-value is less than this, reject H0 and accept HA, ie. the outcome is statistically significant.  \n",
    "\n",
    "Ie. a low p-value means the likelihood of obtaining the test statistic is very low given H0 is true.\n",
    "\n",
    "\n",
    "\n"
   ]
  },
  {
   "cell_type": "code",
   "execution_count": null,
   "metadata": {},
   "outputs": [],
   "source": []
  },
  {
   "cell_type": "code",
   "execution_count": null,
   "metadata": {},
   "outputs": [],
   "source": []
  },
  {
   "cell_type": "code",
   "execution_count": null,
   "metadata": {},
   "outputs": [],
   "source": []
  },
  {
   "cell_type": "code",
   "execution_count": null,
   "metadata": {},
   "outputs": [],
   "source": []
  },
  {
   "cell_type": "code",
   "execution_count": null,
   "metadata": {},
   "outputs": [],
   "source": []
  },
  {
   "cell_type": "code",
   "execution_count": null,
   "metadata": {},
   "outputs": [],
   "source": []
  },
  {
   "cell_type": "code",
   "execution_count": null,
   "metadata": {},
   "outputs": [],
   "source": []
  },
  {
   "cell_type": "code",
   "execution_count": null,
   "metadata": {},
   "outputs": [],
   "source": []
  },
  {
   "cell_type": "code",
   "execution_count": null,
   "metadata": {},
   "outputs": [],
   "source": []
  },
  {
   "cell_type": "code",
   "execution_count": null,
   "metadata": {},
   "outputs": [],
   "source": []
  },
  {
   "cell_type": "code",
   "execution_count": null,
   "metadata": {},
   "outputs": [],
   "source": []
  }
 ],
 "metadata": {
  "kernelspec": {
   "display_name": "Python 3",
   "language": "python",
   "name": "python3"
  },
  "language_info": {
   "codemirror_mode": {
    "name": "ipython",
    "version": 3
   },
   "file_extension": ".py",
   "mimetype": "text/x-python",
   "name": "python",
   "nbconvert_exporter": "python",
   "pygments_lexer": "ipython3",
   "version": "3.6.9"
  }
 },
 "nbformat": 4,
 "nbformat_minor": 2
}
